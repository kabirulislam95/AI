{
  "nbformat": 4,
  "nbformat_minor": 0,
  "metadata": {
    "colab": {
      "name": "Assignment2.ipynb",
      "provenance": [],
      "collapsed_sections": []
    },
    "kernelspec": {
      "name": "python3",
      "display_name": "Python 3"
    },
    "language_info": {
      "name": "python"
    }
  },
  "cells": [
    {
      "cell_type": "code",
      "execution_count": null,
      "metadata": {
        "colab": {
          "base_uri": "https://localhost:8080/"
        },
        "id": "5L6VmBYVke9l",
        "outputId": "57cd8fd6-d634-4f64-ebd8-082b09351a3d"
      },
      "outputs": [
        {
          "output_type": "execute_result",
          "data": {
            "text/plain": [
              "9"
            ]
          },
          "metadata": {},
          "execution_count": 4
        }
      ],
      "source": [
        "def max_sub_array(s):\n",
        "    maximum = 0\n",
        "    new_s = \"\"\n",
        "    right = 0\n",
        "    while right<len(s):\n",
        "        if s[right] not in new_s:\n",
        "            new_s = new_s + new_s.join(s[right])\n",
        "            right+=1\n",
        "            maximum = max(maximum, len(new_s))\n",
        "        else:\n",
        "            new_s = new_s[:0] + new_s[(new_s.find(s[right]))+1:]\n",
        "            new_s = new_s + new_s.join(s[right])\n",
        "            right+=1\n",
        "    return maximum\n",
        "\n",
        "s = \"Artificial_Intelligence\"\n",
        "max_sub_array(s)"
      ]
    }
  ]
}